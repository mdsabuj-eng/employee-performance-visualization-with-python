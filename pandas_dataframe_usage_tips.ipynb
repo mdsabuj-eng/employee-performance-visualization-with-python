{
 "cells": [
  {
   "cell_type": "code",
   "execution_count": 3,
   "id": "c87fffa1-234f-4105-972a-f5c022683daa",
   "metadata": {},
   "outputs": [],
   "source": [
    "import sqlite3\n",
    "import urllib.request\n",
    "import pandas as pd\n",
    "import numpy as np\n",
    "import matplotlib.pyplot as plt\n",
    "import seaborn as sns\n",
    "sns.set(style=\"whitegrid\")\n",
    "plt.style.use('seaborn-v0_8-darkgrid')\n",
    "\n"
   ]
  },
  {
   "cell_type": "code",
   "execution_count": 4,
   "id": "95e22f2c-478a-4c24-8063-0b735c26445f",
   "metadata": {},
   "outputs": [
    {
     "name": "stdout",
     "output_type": "stream",
     "text": [
      "Database downloaded successfully!\n"
     ]
    }
   ],
   "source": [
    "url = 'https://github.com/mdsabuj-eng/employee-performance-visualization-with-python/raw/refs/heads/main/employee_analysis.db'\n",
    "db_path = 'employee_analysis.db'\n",
    "\n",
    "urllib.request.urlretrieve(url, db_path)\n",
    "print(\"Database downloaded successfully!\")\n"
   ]
  },
  {
   "cell_type": "code",
   "execution_count": 5,
   "id": "2784c1e9-504a-4516-8a8c-57b470d6fad6",
   "metadata": {},
   "outputs": [
    {
     "name": "stdout",
     "output_type": "stream",
     "text": [
      "Connected to the SQLite database!\n"
     ]
    }
   ],
   "source": [
    "conn = sqlite3.connect(db_path)\n",
    "cursor = conn.cursor()\n",
    "print(\"Connected to the SQLite database!\")\n"
   ]
  },
  {
   "cell_type": "code",
   "execution_count": 6,
   "id": "19e6aca7-0370-4456-be48-1b81f1182695",
   "metadata": {},
   "outputs": [
    {
     "name": "stdout",
     "output_type": "stream",
     "text": [
      "Tables available in the database: [('Department',), ('Employee',), ('PerformanceReview',)]\n"
     ]
    }
   ],
   "source": [
    "cursor.execute(\"SELECT name FROM sqlite_master WHERE type='table';\")\n",
    "tables = cursor.fetchall()\n",
    "print(\"Tables available in the database:\", tables)\n"
   ]
  },
  {
   "cell_type": "code",
   "execution_count": 7,
   "id": "b41338d7-d862-49e9-bf51-c3ede8b5745b",
   "metadata": {},
   "outputs": [
    {
     "data": {
      "text/html": [
       "<div>\n",
       "<style scoped>\n",
       "    .dataframe tbody tr th:only-of-type {\n",
       "        vertical-align: middle;\n",
       "    }\n",
       "\n",
       "    .dataframe tbody tr th {\n",
       "        vertical-align: top;\n",
       "    }\n",
       "\n",
       "    .dataframe thead th {\n",
       "        text-align: right;\n",
       "    }\n",
       "</style>\n",
       "<table border=\"1\" class=\"dataframe\">\n",
       "  <thead>\n",
       "    <tr style=\"text-align: right;\">\n",
       "      <th></th>\n",
       "      <th>EmployeeID</th>\n",
       "      <th>Name</th>\n",
       "      <th>DepartmentID</th>\n",
       "      <th>Salary</th>\n",
       "      <th>JoiningDate</th>\n",
       "    </tr>\n",
       "  </thead>\n",
       "  <tbody>\n",
       "    <tr>\n",
       "      <th>0</th>\n",
       "      <td>1</td>\n",
       "      <td>John Doe</td>\n",
       "      <td>1</td>\n",
       "      <td>50000</td>\n",
       "      <td>2018-04-23</td>\n",
       "    </tr>\n",
       "    <tr>\n",
       "      <th>1</th>\n",
       "      <td>2</td>\n",
       "      <td>Jane Smith</td>\n",
       "      <td>2</td>\n",
       "      <td>60000</td>\n",
       "      <td>2019-06-12</td>\n",
       "    </tr>\n",
       "    <tr>\n",
       "      <th>2</th>\n",
       "      <td>3</td>\n",
       "      <td>Mike Johnson</td>\n",
       "      <td>3</td>\n",
       "      <td>70000</td>\n",
       "      <td>2017-03-15</td>\n",
       "    </tr>\n",
       "    <tr>\n",
       "      <th>3</th>\n",
       "      <td>4</td>\n",
       "      <td>Emily Davis</td>\n",
       "      <td>4</td>\n",
       "      <td>55000</td>\n",
       "      <td>2020-08-19</td>\n",
       "    </tr>\n",
       "    <tr>\n",
       "      <th>4</th>\n",
       "      <td>5</td>\n",
       "      <td>James Wilson</td>\n",
       "      <td>1</td>\n",
       "      <td>52000</td>\n",
       "      <td>2018-11-30</td>\n",
       "    </tr>\n",
       "  </tbody>\n",
       "</table>\n",
       "</div>"
      ],
      "text/plain": [
       "   EmployeeID          Name  DepartmentID  Salary JoiningDate\n",
       "0           1      John Doe             1   50000  2018-04-23\n",
       "1           2    Jane Smith             2   60000  2019-06-12\n",
       "2           3  Mike Johnson             3   70000  2017-03-15\n",
       "3           4   Emily Davis             4   55000  2020-08-19\n",
       "4           5  James Wilson             1   52000  2018-11-30"
      ]
     },
     "execution_count": 7,
     "metadata": {},
     "output_type": "execute_result"
    }
   ],
   "source": [
    "query = \"SELECT * FROM Employee LIMIT 5;\"\n",
    "df_sample = pd.read_sql_query(query, conn)\n",
    "df_sample\n"
   ]
  },
  {
   "cell_type": "code",
   "execution_count": 8,
   "id": "a2368505-96aa-4314-9c2e-b2cf31af1419",
   "metadata": {},
   "outputs": [
    {
     "data": {
      "text/html": [
       "<div>\n",
       "<style scoped>\n",
       "    .dataframe tbody tr th:only-of-type {\n",
       "        vertical-align: middle;\n",
       "    }\n",
       "\n",
       "    .dataframe tbody tr th {\n",
       "        vertical-align: top;\n",
       "    }\n",
       "\n",
       "    .dataframe thead th {\n",
       "        text-align: right;\n",
       "    }\n",
       "</style>\n",
       "<table border=\"1\" class=\"dataframe\">\n",
       "  <thead>\n",
       "    <tr style=\"text-align: right;\">\n",
       "      <th></th>\n",
       "      <th>DepartmentID</th>\n",
       "      <th>DepartmentName</th>\n",
       "      <th>Manager</th>\n",
       "    </tr>\n",
       "  </thead>\n",
       "  <tbody>\n",
       "    <tr>\n",
       "      <th>0</th>\n",
       "      <td>1</td>\n",
       "      <td>Sales</td>\n",
       "      <td>Alice Brown</td>\n",
       "    </tr>\n",
       "    <tr>\n",
       "      <th>1</th>\n",
       "      <td>2</td>\n",
       "      <td>HR</td>\n",
       "      <td>Bob Smith</td>\n",
       "    </tr>\n",
       "    <tr>\n",
       "      <th>2</th>\n",
       "      <td>3</td>\n",
       "      <td>IT</td>\n",
       "      <td>Carol Johnson</td>\n",
       "    </tr>\n",
       "    <tr>\n",
       "      <th>3</th>\n",
       "      <td>4</td>\n",
       "      <td>Marketing</td>\n",
       "      <td>David Lee</td>\n",
       "    </tr>\n",
       "    <tr>\n",
       "      <th>4</th>\n",
       "      <td>5</td>\n",
       "      <td>Finance</td>\n",
       "      <td>Eva Green</td>\n",
       "    </tr>\n",
       "  </tbody>\n",
       "</table>\n",
       "</div>"
      ],
      "text/plain": [
       "   DepartmentID DepartmentName        Manager\n",
       "0             1          Sales    Alice Brown\n",
       "1             2             HR      Bob Smith\n",
       "2             3             IT  Carol Johnson\n",
       "3             4      Marketing      David Lee\n",
       "4             5        Finance      Eva Green"
      ]
     },
     "execution_count": 8,
     "metadata": {},
     "output_type": "execute_result"
    }
   ],
   "source": [
    "query = \"SELECT * FROM Department LIMIT 5;\"\n",
    "df_sample = pd.read_sql_query(query, conn)\n",
    "df_sample"
   ]
  },
  {
   "cell_type": "code",
   "execution_count": 9,
   "id": "e11cd62b-7e99-4e9a-8fcf-ab9735470892",
   "metadata": {},
   "outputs": [
    {
     "data": {
      "text/html": [
       "<div>\n",
       "<style scoped>\n",
       "    .dataframe tbody tr th:only-of-type {\n",
       "        vertical-align: middle;\n",
       "    }\n",
       "\n",
       "    .dataframe tbody tr th {\n",
       "        vertical-align: top;\n",
       "    }\n",
       "\n",
       "    .dataframe thead th {\n",
       "        text-align: right;\n",
       "    }\n",
       "</style>\n",
       "<table border=\"1\" class=\"dataframe\">\n",
       "  <thead>\n",
       "    <tr style=\"text-align: right;\">\n",
       "      <th></th>\n",
       "      <th>ReviewID</th>\n",
       "      <th>EmployeeID</th>\n",
       "      <th>ReviewDate</th>\n",
       "      <th>Score</th>\n",
       "      <th>Comments</th>\n",
       "    </tr>\n",
       "  </thead>\n",
       "  <tbody>\n",
       "    <tr>\n",
       "      <th>0</th>\n",
       "      <td>1</td>\n",
       "      <td>1</td>\n",
       "      <td>2023-01-15</td>\n",
       "      <td>4.5</td>\n",
       "      <td>Excellent communication skills</td>\n",
       "    </tr>\n",
       "    <tr>\n",
       "      <th>1</th>\n",
       "      <td>2</td>\n",
       "      <td>2</td>\n",
       "      <td>2023-01-18</td>\n",
       "      <td>4.7</td>\n",
       "      <td>Great team player</td>\n",
       "    </tr>\n",
       "    <tr>\n",
       "      <th>2</th>\n",
       "      <td>3</td>\n",
       "      <td>3</td>\n",
       "      <td>2023-01-20</td>\n",
       "      <td>4.8</td>\n",
       "      <td>Outstanding technical knowledge</td>\n",
       "    </tr>\n",
       "    <tr>\n",
       "      <th>3</th>\n",
       "      <td>4</td>\n",
       "      <td>4</td>\n",
       "      <td>2023-01-25</td>\n",
       "      <td>4.3</td>\n",
       "      <td>Needs to improve punctuality</td>\n",
       "    </tr>\n",
       "    <tr>\n",
       "      <th>4</th>\n",
       "      <td>5</td>\n",
       "      <td>5</td>\n",
       "      <td>2023-01-30</td>\n",
       "      <td>4.6</td>\n",
       "      <td>Strong sales performance</td>\n",
       "    </tr>\n",
       "  </tbody>\n",
       "</table>\n",
       "</div>"
      ],
      "text/plain": [
       "   ReviewID  EmployeeID  ReviewDate  Score                         Comments\n",
       "0         1           1  2023-01-15    4.5   Excellent communication skills\n",
       "1         2           2  2023-01-18    4.7                Great team player\n",
       "2         3           3  2023-01-20    4.8  Outstanding technical knowledge\n",
       "3         4           4  2023-01-25    4.3     Needs to improve punctuality\n",
       "4         5           5  2023-01-30    4.6         Strong sales performance"
      ]
     },
     "execution_count": 9,
     "metadata": {},
     "output_type": "execute_result"
    }
   ],
   "source": [
    "query = \"SELECT * FROM PerformanceReview LIMIT 5;\"\n",
    "df_sample = pd.read_sql_query(query, conn)\n",
    "df_sample"
   ]
  },
  {
   "cell_type": "code",
   "execution_count": 10,
   "id": "eb611deb-c3ac-403e-9288-54633a658ee8",
   "metadata": {},
   "outputs": [
    {
     "name": "stdout",
     "output_type": "stream",
     "text": [
      "<class 'pandas.core.frame.DataFrame'>\n",
      "RangeIndex: 14 entries, 0 to 13\n",
      "Data columns (total 5 columns):\n",
      " #   Column        Non-Null Count  Dtype \n",
      "---  ------        --------------  ----- \n",
      " 0   EmployeeID    14 non-null     int64 \n",
      " 1   Name          14 non-null     object\n",
      " 2   DepartmentID  14 non-null     int64 \n",
      " 3   Salary        14 non-null     int64 \n",
      " 4   JoiningDate   14 non-null     object\n",
      "dtypes: int64(3), object(2)\n",
      "memory usage: 692.0+ bytes\n"
     ]
    },
    {
     "data": {
      "text/html": [
       "<div>\n",
       "<style scoped>\n",
       "    .dataframe tbody tr th:only-of-type {\n",
       "        vertical-align: middle;\n",
       "    }\n",
       "\n",
       "    .dataframe tbody tr th {\n",
       "        vertical-align: top;\n",
       "    }\n",
       "\n",
       "    .dataframe thead th {\n",
       "        text-align: right;\n",
       "    }\n",
       "</style>\n",
       "<table border=\"1\" class=\"dataframe\">\n",
       "  <thead>\n",
       "    <tr style=\"text-align: right;\">\n",
       "      <th></th>\n",
       "      <th>EmployeeID</th>\n",
       "      <th>DepartmentID</th>\n",
       "      <th>Salary</th>\n",
       "    </tr>\n",
       "  </thead>\n",
       "  <tbody>\n",
       "    <tr>\n",
       "      <th>count</th>\n",
       "      <td>14.0000</td>\n",
       "      <td>14.000000</td>\n",
       "      <td>14.000000</td>\n",
       "    </tr>\n",
       "    <tr>\n",
       "      <th>mean</th>\n",
       "      <td>7.5000</td>\n",
       "      <td>2.857143</td>\n",
       "      <td>60571.428571</td>\n",
       "    </tr>\n",
       "    <tr>\n",
       "      <th>std</th>\n",
       "      <td>4.1833</td>\n",
       "      <td>1.406422</td>\n",
       "      <td>7490.653517</td>\n",
       "    </tr>\n",
       "    <tr>\n",
       "      <th>min</th>\n",
       "      <td>1.0000</td>\n",
       "      <td>1.000000</td>\n",
       "      <td>50000.000000</td>\n",
       "    </tr>\n",
       "    <tr>\n",
       "      <th>25%</th>\n",
       "      <td>4.2500</td>\n",
       "      <td>2.000000</td>\n",
       "      <td>54250.000000</td>\n",
       "    </tr>\n",
       "    <tr>\n",
       "      <th>50%</th>\n",
       "      <td>7.5000</td>\n",
       "      <td>3.000000</td>\n",
       "      <td>60500.000000</td>\n",
       "    </tr>\n",
       "    <tr>\n",
       "      <th>75%</th>\n",
       "      <td>10.7500</td>\n",
       "      <td>4.000000</td>\n",
       "      <td>66500.000000</td>\n",
       "    </tr>\n",
       "    <tr>\n",
       "      <th>max</th>\n",
       "      <td>14.0000</td>\n",
       "      <td>5.000000</td>\n",
       "      <td>72000.000000</td>\n",
       "    </tr>\n",
       "  </tbody>\n",
       "</table>\n",
       "</div>"
      ],
      "text/plain": [
       "       EmployeeID  DepartmentID        Salary\n",
       "count     14.0000     14.000000     14.000000\n",
       "mean       7.5000      2.857143  60571.428571\n",
       "std        4.1833      1.406422   7490.653517\n",
       "min        1.0000      1.000000  50000.000000\n",
       "25%        4.2500      2.000000  54250.000000\n",
       "50%        7.5000      3.000000  60500.000000\n",
       "75%       10.7500      4.000000  66500.000000\n",
       "max       14.0000      5.000000  72000.000000"
      ]
     },
     "execution_count": 10,
     "metadata": {},
     "output_type": "execute_result"
    }
   ],
   "source": [
    "\n",
    "\n",
    "df_full = pd.read_sql_query(\"SELECT * FROM Employee;\", conn)\n",
    "df_full.info()\n",
    "df_full.describe()\n"
   ]
  },
  {
   "cell_type": "code",
   "execution_count": 11,
   "id": "69e99b14-5e5a-4da1-aea1-2ad8c1638b29",
   "metadata": {},
   "outputs": [
    {
     "name": "stdout",
     "output_type": "stream",
     "text": [
      "<class 'pandas.core.frame.DataFrame'>\n",
      "RangeIndex: 5 entries, 0 to 4\n",
      "Data columns (total 3 columns):\n",
      " #   Column          Non-Null Count  Dtype \n",
      "---  ------          --------------  ----- \n",
      " 0   DepartmentID    5 non-null      int64 \n",
      " 1   DepartmentName  5 non-null      object\n",
      " 2   Manager         5 non-null      object\n",
      "dtypes: int64(1), object(2)\n",
      "memory usage: 252.0+ bytes\n"
     ]
    },
    {
     "data": {
      "text/html": [
       "<div>\n",
       "<style scoped>\n",
       "    .dataframe tbody tr th:only-of-type {\n",
       "        vertical-align: middle;\n",
       "    }\n",
       "\n",
       "    .dataframe tbody tr th {\n",
       "        vertical-align: top;\n",
       "    }\n",
       "\n",
       "    .dataframe thead th {\n",
       "        text-align: right;\n",
       "    }\n",
       "</style>\n",
       "<table border=\"1\" class=\"dataframe\">\n",
       "  <thead>\n",
       "    <tr style=\"text-align: right;\">\n",
       "      <th></th>\n",
       "      <th>DepartmentID</th>\n",
       "    </tr>\n",
       "  </thead>\n",
       "  <tbody>\n",
       "    <tr>\n",
       "      <th>count</th>\n",
       "      <td>5.000000</td>\n",
       "    </tr>\n",
       "    <tr>\n",
       "      <th>mean</th>\n",
       "      <td>3.000000</td>\n",
       "    </tr>\n",
       "    <tr>\n",
       "      <th>std</th>\n",
       "      <td>1.581139</td>\n",
       "    </tr>\n",
       "    <tr>\n",
       "      <th>min</th>\n",
       "      <td>1.000000</td>\n",
       "    </tr>\n",
       "    <tr>\n",
       "      <th>25%</th>\n",
       "      <td>2.000000</td>\n",
       "    </tr>\n",
       "    <tr>\n",
       "      <th>50%</th>\n",
       "      <td>3.000000</td>\n",
       "    </tr>\n",
       "    <tr>\n",
       "      <th>75%</th>\n",
       "      <td>4.000000</td>\n",
       "    </tr>\n",
       "    <tr>\n",
       "      <th>max</th>\n",
       "      <td>5.000000</td>\n",
       "    </tr>\n",
       "  </tbody>\n",
       "</table>\n",
       "</div>"
      ],
      "text/plain": [
       "       DepartmentID\n",
       "count      5.000000\n",
       "mean       3.000000\n",
       "std        1.581139\n",
       "min        1.000000\n",
       "25%        2.000000\n",
       "50%        3.000000\n",
       "75%        4.000000\n",
       "max        5.000000"
      ]
     },
     "execution_count": 11,
     "metadata": {},
     "output_type": "execute_result"
    }
   ],
   "source": [
    "\n",
    "\n",
    "df_full = pd.read_sql_query(\"SELECT * FROM Department;\", conn)\n",
    "df_full.info()\n",
    "df_full.describe()\n"
   ]
  },
  {
   "cell_type": "code",
   "execution_count": 12,
   "id": "8376c1c3-3160-4323-8465-9b459e0f315d",
   "metadata": {},
   "outputs": [
    {
     "name": "stdout",
     "output_type": "stream",
     "text": [
      "<class 'pandas.core.frame.DataFrame'>\n",
      "RangeIndex: 14 entries, 0 to 13\n",
      "Data columns (total 5 columns):\n",
      " #   Column      Non-Null Count  Dtype  \n",
      "---  ------      --------------  -----  \n",
      " 0   ReviewID    14 non-null     int64  \n",
      " 1   EmployeeID  14 non-null     int64  \n",
      " 2   ReviewDate  14 non-null     object \n",
      " 3   Score       14 non-null     float64\n",
      " 4   Comments    14 non-null     object \n",
      "dtypes: float64(1), int64(2), object(2)\n",
      "memory usage: 692.0+ bytes\n"
     ]
    },
    {
     "data": {
      "text/html": [
       "<div>\n",
       "<style scoped>\n",
       "    .dataframe tbody tr th:only-of-type {\n",
       "        vertical-align: middle;\n",
       "    }\n",
       "\n",
       "    .dataframe tbody tr th {\n",
       "        vertical-align: top;\n",
       "    }\n",
       "\n",
       "    .dataframe thead th {\n",
       "        text-align: right;\n",
       "    }\n",
       "</style>\n",
       "<table border=\"1\" class=\"dataframe\">\n",
       "  <thead>\n",
       "    <tr style=\"text-align: right;\">\n",
       "      <th></th>\n",
       "      <th>ReviewID</th>\n",
       "      <th>EmployeeID</th>\n",
       "      <th>Score</th>\n",
       "    </tr>\n",
       "  </thead>\n",
       "  <tbody>\n",
       "    <tr>\n",
       "      <th>count</th>\n",
       "      <td>14.0000</td>\n",
       "      <td>14.0000</td>\n",
       "      <td>14.000000</td>\n",
       "    </tr>\n",
       "    <tr>\n",
       "      <th>mean</th>\n",
       "      <td>7.5000</td>\n",
       "      <td>7.5000</td>\n",
       "      <td>4.571429</td>\n",
       "    </tr>\n",
       "    <tr>\n",
       "      <th>std</th>\n",
       "      <td>4.1833</td>\n",
       "      <td>4.1833</td>\n",
       "      <td>0.212779</td>\n",
       "    </tr>\n",
       "    <tr>\n",
       "      <th>min</th>\n",
       "      <td>1.0000</td>\n",
       "      <td>1.0000</td>\n",
       "      <td>4.200000</td>\n",
       "    </tr>\n",
       "    <tr>\n",
       "      <th>25%</th>\n",
       "      <td>4.2500</td>\n",
       "      <td>4.2500</td>\n",
       "      <td>4.425000</td>\n",
       "    </tr>\n",
       "    <tr>\n",
       "      <th>50%</th>\n",
       "      <td>7.5000</td>\n",
       "      <td>7.5000</td>\n",
       "      <td>4.600000</td>\n",
       "    </tr>\n",
       "    <tr>\n",
       "      <th>75%</th>\n",
       "      <td>10.7500</td>\n",
       "      <td>10.7500</td>\n",
       "      <td>4.700000</td>\n",
       "    </tr>\n",
       "    <tr>\n",
       "      <th>max</th>\n",
       "      <td>14.0000</td>\n",
       "      <td>14.0000</td>\n",
       "      <td>4.900000</td>\n",
       "    </tr>\n",
       "  </tbody>\n",
       "</table>\n",
       "</div>"
      ],
      "text/plain": [
       "       ReviewID  EmployeeID      Score\n",
       "count   14.0000     14.0000  14.000000\n",
       "mean     7.5000      7.5000   4.571429\n",
       "std      4.1833      4.1833   0.212779\n",
       "min      1.0000      1.0000   4.200000\n",
       "25%      4.2500      4.2500   4.425000\n",
       "50%      7.5000      7.5000   4.600000\n",
       "75%     10.7500     10.7500   4.700000\n",
       "max     14.0000     14.0000   4.900000"
      ]
     },
     "execution_count": 12,
     "metadata": {},
     "output_type": "execute_result"
    }
   ],
   "source": [
    "\n",
    "\n",
    "df_full = pd.read_sql_query(\"SELECT * FROM PerformanceReview;\", conn)\n",
    "df_full.info()\n",
    "df_full.describe()\n"
   ]
  },
  {
   "cell_type": "code",
   "execution_count": 13,
   "id": "083ee7e1-36e6-44af-9c03-02bbae2528f2",
   "metadata": {},
   "outputs": [
    {
     "name": "stdout",
     "output_type": "stream",
     "text": [
      "Requirement already satisfied: ipython-sql in c:\\users\\hp\\appdata\\local\\programs\\python\\python313\\lib\\site-packages (0.5.0)\n",
      "Requirement already satisfied: prettytable in c:\\users\\hp\\appdata\\local\\programs\\python\\python313\\lib\\site-packages (from ipython-sql) (3.6.0)\n",
      "Requirement already satisfied: ipython in c:\\users\\hp\\appdata\\local\\programs\\python\\python313\\lib\\site-packages (from ipython-sql) (9.3.0)\n",
      "Requirement already satisfied: sqlalchemy>=2.0 in c:\\users\\hp\\appdata\\local\\programs\\python\\python313\\lib\\site-packages (from ipython-sql) (2.0.41)\n",
      "Requirement already satisfied: sqlparse in c:\\users\\hp\\appdata\\local\\programs\\python\\python313\\lib\\site-packages (from ipython-sql) (0.5.3)\n",
      "Requirement already satisfied: six in c:\\users\\hp\\appdata\\local\\programs\\python\\python313\\lib\\site-packages (from ipython-sql) (1.17.0)\n",
      "Requirement already satisfied: ipython-genutils in c:\\users\\hp\\appdata\\local\\programs\\python\\python313\\lib\\site-packages (from ipython-sql) (0.2.0)\n",
      "Requirement already satisfied: greenlet>=1 in c:\\users\\hp\\appdata\\local\\programs\\python\\python313\\lib\\site-packages (from sqlalchemy>=2.0->ipython-sql) (3.2.3)\n",
      "Requirement already satisfied: typing-extensions>=4.6.0 in c:\\users\\hp\\appdata\\local\\programs\\python\\python313\\lib\\site-packages (from sqlalchemy>=2.0->ipython-sql) (4.14.0)\n",
      "Requirement already satisfied: colorama in c:\\users\\hp\\appdata\\local\\programs\\python\\python313\\lib\\site-packages (from ipython->ipython-sql) (0.4.6)\n",
      "Requirement already satisfied: decorator in c:\\users\\hp\\appdata\\local\\programs\\python\\python313\\lib\\site-packages (from ipython->ipython-sql) (5.2.1)\n",
      "Requirement already satisfied: ipython-pygments-lexers in c:\\users\\hp\\appdata\\local\\programs\\python\\python313\\lib\\site-packages (from ipython->ipython-sql) (1.1.1)\n",
      "Requirement already satisfied: jedi>=0.16 in c:\\users\\hp\\appdata\\local\\programs\\python\\python313\\lib\\site-packages (from ipython->ipython-sql) (0.19.2)\n",
      "Requirement already satisfied: matplotlib-inline in c:\\users\\hp\\appdata\\local\\programs\\python\\python313\\lib\\site-packages (from ipython->ipython-sql) (0.1.7)\n",
      "Requirement already satisfied: prompt_toolkit<3.1.0,>=3.0.41 in c:\\users\\hp\\appdata\\local\\programs\\python\\python313\\lib\\site-packages (from ipython->ipython-sql) (3.0.51)\n",
      "Requirement already satisfied: pygments>=2.4.0 in c:\\users\\hp\\appdata\\local\\programs\\python\\python313\\lib\\site-packages (from ipython->ipython-sql) (2.19.1)\n",
      "Requirement already satisfied: stack_data in c:\\users\\hp\\appdata\\local\\programs\\python\\python313\\lib\\site-packages (from ipython->ipython-sql) (0.6.3)\n",
      "Requirement already satisfied: traitlets>=5.13.0 in c:\\users\\hp\\appdata\\local\\programs\\python\\python313\\lib\\site-packages (from ipython->ipython-sql) (5.14.3)\n",
      "Requirement already satisfied: wcwidth in c:\\users\\hp\\appdata\\local\\programs\\python\\python313\\lib\\site-packages (from prompt_toolkit<3.1.0,>=3.0.41->ipython->ipython-sql) (0.2.13)\n",
      "Requirement already satisfied: parso<0.9.0,>=0.8.4 in c:\\users\\hp\\appdata\\local\\programs\\python\\python313\\lib\\site-packages (from jedi>=0.16->ipython->ipython-sql) (0.8.4)\n",
      "Requirement already satisfied: executing>=1.2.0 in c:\\users\\hp\\appdata\\local\\programs\\python\\python313\\lib\\site-packages (from stack_data->ipython->ipython-sql) (2.2.0)\n",
      "Requirement already satisfied: asttokens>=2.1.0 in c:\\users\\hp\\appdata\\local\\programs\\python\\python313\\lib\\site-packages (from stack_data->ipython->ipython-sql) (3.0.0)\n",
      "Requirement already satisfied: pure-eval in c:\\users\\hp\\appdata\\local\\programs\\python\\python313\\lib\\site-packages (from stack_data->ipython->ipython-sql) (0.2.3)\n"
     ]
    }
   ],
   "source": [
    "!pip install ipython-sql\n"
   ]
  },
  {
   "cell_type": "code",
   "execution_count": 14,
   "id": "5f833797-cd2e-4b30-a64f-072f5d3776d3",
   "metadata": {},
   "outputs": [],
   "source": [
    "%load_ext sql"
   ]
  },
  {
   "cell_type": "code",
   "execution_count": 15,
   "id": "e0f33974-bb16-490f-95f0-35b7df9f9eb6",
   "metadata": {},
   "outputs": [],
   "source": [
    "%sql sqlite:///employee_analysis.db\n"
   ]
  },
  {
   "cell_type": "code",
   "execution_count": 16,
   "id": "39a1e813-6cf1-429f-a00e-7c69267fd50f",
   "metadata": {},
   "outputs": [
    {
     "name": "stdout",
     "output_type": "stream",
     "text": [
      "(1, 1, '2023-01-15', 4.5, 'Excellent communication skills')\n",
      "(2, 2, '2023-01-18', 4.7, 'Great team player')\n",
      "(3, 3, '2023-01-20', 4.8, 'Outstanding technical knowledge')\n",
      "(4, 4, '2023-01-25', 4.3, 'Needs to improve punctuality')\n",
      "(5, 5, '2023-01-30', 4.6, 'Strong sales performance')\n"
     ]
    }
   ],
   "source": [
    "for row in cursor.execute('SELECT * FROM PerformanceReview LIMIT 5'):\n",
    "    print(row)"
   ]
  },
  {
   "cell_type": "code",
   "execution_count": 18,
   "id": "b0d0683b-2103-40e8-a15f-92e01c1e438a",
   "metadata": {},
   "outputs": [
    {
     "name": "stdout",
     "output_type": "stream",
     "text": [
      "(1, 'Sales', 'Alice Brown')\n",
      "(2, 'HR', 'Bob Smith')\n",
      "(3, 'IT', 'Carol Johnson')\n",
      "(4, 'Marketing', 'David Lee')\n",
      "(5, 'Finance', 'Eva Green')\n"
     ]
    }
   ],
   "source": [
    "for row in cursor.execute('select * from Department limit 5'):\n",
    "    print(row)"
   ]
  },
  {
   "cell_type": "code",
   "execution_count": 19,
   "id": "d8a2128e-03cd-475f-a7c7-2be1d9033845",
   "metadata": {},
   "outputs": [
    {
     "name": "stdout",
     "output_type": "stream",
     "text": [
      "(1, 'John Doe', 1, 50000, '2018-04-23')\n",
      "(2, 'Jane Smith', 2, 60000, '2019-06-12')\n",
      "(3, 'Mike Johnson', 3, 70000, '2017-03-15')\n",
      "(4, 'Emily Davis', 4, 55000, '2020-08-19')\n",
      "(5, 'James Wilson', 1, 52000, '2018-11-30')\n"
     ]
    }
   ],
   "source": [
    "for row in cursor.execute('select * from Employee limit 5'):\n",
    "    print(row)"
   ]
  },
  {
   "cell_type": "code",
   "execution_count": 24,
   "id": "ad47bfc1-cf60-4175-92b8-0312b9d10fa7",
   "metadata": {},
   "outputs": [
    {
     "name": "stdout",
     "output_type": "stream",
     "text": [
      "   DepartmentID  EmployeeCount\n",
      "0             1              3\n",
      "1             2              3\n",
      "2             3              3\n",
      "3             4              3\n",
      "4             5              2\n"
     ]
    }
   ],
   "source": [
    "#Task 1:\n",
    "#Show total number of employees per department (use SQL or Pandas).\n",
    "\n",
    "#Display the result as a Pandas DataFrame.\n",
    "\n",
    "\n",
    "\n",
    "query = '''\n",
    "SELECT DepartmentID, COUNT(EmployeeID) AS EmployeeCount\n",
    "FROM Employee\n",
    "GROUP BY DepartmentID\n",
    "'''\n",
    "\n",
    "df = pd.read_sql_query(query, conn)\n",
    "print(df)\n"
   ]
  },
  {
   "cell_type": "code",
   "execution_count": 25,
   "id": "0f4687d1-5757-4ecb-ad61-3a7d9d460722",
   "metadata": {},
   "outputs": [],
   "source": [
    "\n",
    "\n",
    "\n",
    "#Task 2:\n",
    "#Calculate total salary expense per department.\n",
    "\n",
    "#Calculate average performance score per department (join Employee and PerformanceReview).\n",
    "\n",
    "#Show the results as a combined Pandas DataFrame with columns:\n",
    "#DepartmentID | TotalSalary | AvgPerformanceScore"
   ]
  },
  {
   "cell_type": "code",
   "execution_count": 29,
   "id": "01e16f23-28a8-47a0-a129-932de94b8858",
   "metadata": {},
   "outputs": [
    {
     "name": "stdout",
     "output_type": "stream",
     "text": [
      "   DepartmentID  sum(Salary)  avg(Score)\n",
      "0             1       155000    4.566667\n",
      "1             2       183000    4.600000\n",
      "2             3       213000    4.833333\n",
      "3             4       165000    4.266667\n",
      "4             5       132000    4.600000\n"
     ]
    }
   ],
   "source": [
    "query=''' select\n",
    "DepartmentID,\n",
    "sum(Salary),\n",
    "avg(Score)\n",
    "from Employee e \n",
    "join PerformanceReview p on e.EmployeeID =p.EmployeeID\t\n",
    "group by 1;'''\n",
    "\n",
    "df=pd.read_sql_query(query,conn)\n",
    "print(df)"
   ]
  },
  {
   "cell_type": "code",
   "execution_count": 28,
   "id": "b4f2e6ed-a211-40c0-ba3d-68d5a782ba7b",
   "metadata": {},
   "outputs": [
    {
     "name": "stdout",
     "output_type": "stream",
     "text": [
      " * sqlite:///employee_analysis.db\n",
      "Done.\n"
     ]
    },
    {
     "data": {
      "text/html": [
       "<table>\n",
       "    <thead>\n",
       "        <tr>\n",
       "            <th>ReviewID</th>\n",
       "            <th>EmployeeID</th>\n",
       "            <th>ReviewDate</th>\n",
       "            <th>Score</th>\n",
       "            <th>Comments</th>\n",
       "        </tr>\n",
       "    </thead>\n",
       "    <tbody>\n",
       "        <tr>\n",
       "            <td>1</td>\n",
       "            <td>1</td>\n",
       "            <td>2023-01-15</td>\n",
       "            <td>4.5</td>\n",
       "            <td>Excellent communication skills</td>\n",
       "        </tr>\n",
       "        <tr>\n",
       "            <td>2</td>\n",
       "            <td>2</td>\n",
       "            <td>2023-01-18</td>\n",
       "            <td>4.7</td>\n",
       "            <td>Great team player</td>\n",
       "        </tr>\n",
       "    </tbody>\n",
       "</table>"
      ],
      "text/plain": [
       "[(1, 1, '2023-01-15', 4.5, 'Excellent communication skills'),\n",
       " (2, 2, '2023-01-18', 4.7, 'Great team player')]"
      ]
     },
     "execution_count": 28,
     "metadata": {},
     "output_type": "execute_result"
    }
   ],
   "source": [
    "%%sql \n",
    "select * from PerformanceReview limit 2;"
   ]
  },
  {
   "cell_type": "code",
   "execution_count": 30,
   "id": "8ac5cd22-31b2-45d8-83a4-fc96970189f9",
   "metadata": {},
   "outputs": [],
   "source": [
    "#Task 3 \n",
    "#Bar Chart — Total Salary Expense per Department"
   ]
  },
  {
   "cell_type": "code",
   "execution_count": 33,
   "id": "27085197-5ac9-433d-9f99-fe72cbd82deb",
   "metadata": {},
   "outputs": [
    {
     "name": "stdout",
     "output_type": "stream",
     "text": [
      "   DepartmentID  Total_salary\n",
      "0             1        155000\n",
      "1             2        183000\n",
      "2             3        213000\n",
      "3             4        165000\n",
      "4             5        132000\n"
     ]
    }
   ],
   "source": [
    "query=''' select DepartmentID,sum(Salary) Total_salary  from Employee group by 1;'''\n",
    "df_salary=pd.read_sql_query(query,conn)\n",
    "print(df_salary)"
   ]
  },
  {
   "cell_type": "code",
   "execution_count": 34,
   "id": "e059b4b7-118f-4c16-b2dc-e2e4c0926112",
   "metadata": {},
   "outputs": [
    {
     "name": "stderr",
     "output_type": "stream",
     "text": [
      "C:\\Users\\HP\\AppData\\Local\\Temp\\ipykernel_18572\\2298939021.py:2: FutureWarning: \n",
      "\n",
      "Passing `palette` without assigning `hue` is deprecated and will be removed in v0.14.0. Assign the `x` variable to `hue` and set `legend=False` for the same effect.\n",
      "\n",
      "  sns.barplot(\n"
     ]
    },
    {
     "data": {
      "image/png": "[encoded data removed]",
      "text/plain": [
       "<Figure size 800x500 with 1 Axes>"
      ]
     },
     "metadata": {},
     "output_type": "display_data"
    }
   ],
   "source": [
    "\n",
    "plt.figure(figsize=(8,5))  \n",
    "sns.barplot(                \n",
    "    data=df_salary,        \n",
    "    x='DepartmentID',    \n",
    "    y='Total_salary',       \n",
    "    palette='viridis'       \n",
    ")\n",
    "plt.title('Total Salary Expense per Department')  \n",
    "plt.xlabel('Department ID')                      \n",
    "plt.ylabel('Total Salary')                        \n",
    "plt.show()              \n"
   ]
  },
  {
   "cell_type": "code",
   "execution_count": 35,
   "id": "8b8f4ea2-82bf-47b5-9fa6-c7fbbc865462",
   "metadata": {},
   "outputs": [],
   "source": [
    "##Task 4: Pie Chart — Employee Distribution by Department\n"
   ]
  },
  {
   "cell_type": "code",
   "execution_count": 39,
   "id": "55cf6caf-1d5f-4640-b7ab-1876232d4e79",
   "metadata": {},
   "outputs": [
    {
     "name": "stdout",
     "output_type": "stream",
     "text": [
      "   DepartmentID  employeecount\n",
      "0             1              3\n",
      "1             2              3\n",
      "2             3              3\n",
      "3             4              3\n",
      "4             5              2\n"
     ]
    }
   ],
   "source": [
    "query=''' select DepartmentID,count(EmployeeID) as employeecount from Employee group by 1;'''\n",
    "df=pd.read_sql_query(query,conn)\n",
    "print(df)"
   ]
  },
  {
   "cell_type": "code",
   "execution_count": 40,
   "id": "64eb4ab0-f2a9-4883-9c9e-8401a5d172f7",
   "metadata": {},
   "outputs": [
    {
     "data": {
      "image/png": "[encoded data removed]",
      "text/plain": [
       "<Figure size 600x600 with 1 Axes>"
      ]
     },
     "metadata": {},
     "output_type": "display_data"
    }
   ],
   "source": [
    "plt.figure(figsize=(6,6))\n",
    "plt.pie(df['employeecount'], \n",
    "        labels=df['DepartmentID'], \n",
    "        autopct='%1.1f%%', \n",
    "        startangle=140, \n",
    "        colors=sns.color_palette('pastel'))\n",
    "\n",
    "plt.title('Employee Distribution by Department')\n",
    "plt.show()\n"
   ]
  },
  {
   "cell_type": "code",
   "execution_count": 41,
   "id": "3dc1912f-a57f-4c58-a87b-1cac861c492f",
   "metadata": {},
   "outputs": [],
   "source": [
    "###Task 5: Line Chart — Average Performance Score Trend by Review Date"
   ]
  },
  {
   "cell_type": "code",
   "execution_count": 42,
   "id": "ef38e324-94d8-453d-97ba-f1425f5b4e51",
   "metadata": {},
   "outputs": [
    {
     "name": "stdout",
     "output_type": "stream",
     "text": [
      "    ReviewDate  AvgScore\n",
      "0   2023-01-15       4.5\n",
      "1   2023-01-18       4.7\n",
      "2   2023-01-20       4.8\n",
      "3   2023-01-25       4.3\n",
      "4   2023-01-30       4.6\n",
      "5   2023-02-05       4.9\n",
      "6   2023-02-10       4.4\n",
      "7   2023-02-12       4.2\n",
      "8   2023-02-15       4.5\n",
      "9   2023-02-18       4.7\n",
      "10  2023-02-20       4.6\n",
      "11  2023-02-22       4.8\n",
      "12  2023-02-25       4.3\n",
      "13  2023-02-28       4.7\n"
     ]
    }
   ],
   "source": [
    "query = '''\n",
    "SELECT ReviewDate, AVG(Score) AS AvgScore\n",
    "FROM PerformanceReview\n",
    "GROUP BY ReviewDate\n",
    "ORDER BY ReviewDate\n",
    "'''\n",
    "\n",
    "df = pd.read_sql_query(query, conn)\n",
    "print(df)\n"
   ]
  },
  {
   "cell_type": "code",
   "execution_count": 43,
   "id": "5c5f3f1b-c66b-42e9-8dee-2dcfdf54e31c",
   "metadata": {},
   "outputs": [
    {
     "data": {
      "image/png": "[encoded data removed]",
      "text/plain": [
       "<Figure size 1000x500 with 1 Axes>"
      ]
     },
     "metadata": {},
     "output_type": "display_data"
    }
   ],
   "source": [
    "plt.figure(figsize=(10,5))\n",
    "sns.lineplot(data=df, x='ReviewDate', y='AvgScore', marker='o', color='teal')\n",
    "\n",
    "plt.title('Average Performance Score Over Time')\n",
    "plt.xlabel('Review Date')\n",
    "plt.ylabel('Average Score')\n",
    "plt.xticks(rotation=45)\n",
    "plt.tight_layout()\n",
    "\n",
    "plt.show()\n"
   ]
  },
  {
   "cell_type": "code",
   "execution_count": 44,
   "id": "864ef682-b28b-4857-9565-eae47dcf1918",
   "metadata": {},
   "outputs": [],
   "source": [
    "##Task 6: Heatmap — Department vs Average Salary"
   ]
  },
  {
   "cell_type": "code",
   "execution_count": 45,
   "id": "ac6f415c-a2b0-43ad-94a4-eadb684c5a0d",
   "metadata": {},
   "outputs": [
    {
     "name": "stdout",
     "output_type": "stream",
     "text": [
      "   DepartmentID     AvgSalary\n",
      "0             1  51666.666667\n",
      "1             2  61000.000000\n",
      "2             3  71000.000000\n",
      "3             4  55000.000000\n",
      "4             5  66000.000000\n"
     ]
    }
   ],
   "source": [
    "query = '''\n",
    "SELECT DepartmentID, AVG(Salary) AS AvgSalary\n",
    "FROM Employee\n",
    "GROUP BY DepartmentID\n",
    "'''\n",
    "\n",
    "df= pd.read_sql_query(query, conn)\n",
    "print(df)\n"
   ]
  },
  {
   "cell_type": "code",
   "execution_count": 46,
   "id": "692a6b31-5e72-44d6-8e0c-35ff5d409c30",
   "metadata": {},
   "outputs": [
    {
     "data": {
      "image/png": "[encoded data removed]",
      "text/plain": [
       "<Figure size 600x400 with 2 Axes>"
      ]
     },
     "metadata": {},
     "output_type": "display_data"
    }
   ],
   "source": [
    "plt.figure(figsize=(6,4))\n",
    "heatmap_data = df.pivot_table(index='DepartmentID', values='AvgSalary')\n",
    "\n",
    "sns.heatmap(heatmap_data, annot=True, cmap='YlGnBu', fmt=\".0f\", linewidths=0.5)\n",
    "\n",
    "plt.title('Average Salary by Department')\n",
    "plt.ylabel('Department ID')\n",
    "plt.xlabel('')  # No xlabel since only index is shown\n",
    "plt.show()\n"
   ]
  },
  {
   "cell_type": "code",
   "execution_count": 47,
   "id": "c65f907a-135b-46d1-9a0a-651145913a7c",
   "metadata": {},
   "outputs": [],
   "source": [
    "##Task 7: Box Plot — Salary Distribution by Department"
   ]
  },
  {
   "cell_type": "code",
   "execution_count": 48,
   "id": "57588666-22c2-46d0-b8a2-3fcf3a6a40e6",
   "metadata": {},
   "outputs": [
    {
     "name": "stdout",
     "output_type": "stream",
     "text": [
      "    DepartmentID  Salary\n",
      "0              1   50000\n",
      "1              2   60000\n",
      "2              3   70000\n",
      "3              4   55000\n",
      "4              1   52000\n",
      "5              3   72000\n",
      "6              2   61000\n",
      "7              4   54000\n",
      "8              5   65000\n",
      "9              5   67000\n",
      "10             1   53000\n",
      "11             3   71000\n",
      "12             4   56000\n",
      "13             2   62000\n"
     ]
    }
   ],
   "source": [
    "query = '''\n",
    "SELECT DepartmentID, Salary\n",
    "FROM Employee\n",
    "'''\n",
    "\n",
    "df = pd.read_sql_query(query, conn)\n",
    "print(df)\n"
   ]
  },
  {
   "cell_type": "code",
   "execution_count": 49,
   "id": "54182373-50e9-4362-b18c-32916886d697",
   "metadata": {},
   "outputs": [
    {
     "name": "stderr",
     "output_type": "stream",
     "text": [
      "C:\\Users\\HP\\AppData\\Local\\Temp\\ipykernel_18572\\2015928950.py:2: FutureWarning: \n",
      "\n",
      "Passing `palette` without assigning `hue` is deprecated and will be removed in v0.14.0. Assign the `x` variable to `hue` and set `legend=False` for the same effect.\n",
      "\n",
      "  sns.boxplot(data=df, x='DepartmentID', y='Salary', palette='Set2')\n"
     ]
    },
    {
     "data": {
      "image/png": "[encoded data removed]",
      "text/plain": [
       "<Figure size 800x500 with 1 Axes>"
      ]
     },
     "metadata": {},
     "output_type": "display_data"
    }
   ],
   "source": [
    "plt.figure(figsize=(8,5))\n",
    "sns.boxplot(data=df, x='DepartmentID', y='Salary', palette='Set2')\n",
    "\n",
    "plt.title('Salary Distribution by Department')\n",
    "plt.xlabel('Department ID')\n",
    "plt.ylabel('Salary')\n",
    "plt.show()\n"
   ]
  },
  {
   "cell_type": "code",
   "execution_count": 51,
   "id": "9b3de4e2-2a90-4645-8750-58f5bb372e84",
   "metadata": {},
   "outputs": [
    {
     "name": "stdout",
     "output_type": "stream",
     "text": [
      "    Salary  Score\n",
      "0    50000    4.5\n",
      "1    60000    4.7\n",
      "2    70000    4.8\n",
      "3    55000    4.3\n",
      "4    52000    4.6\n",
      "5    72000    4.9\n",
      "6    61000    4.4\n",
      "7    54000    4.2\n",
      "8    65000    4.5\n",
      "9    67000    4.7\n",
      "10   53000    4.6\n",
      "11   71000    4.8\n",
      "12   56000    4.3\n",
      "13   62000    4.7\n"
     ]
    }
   ],
   "source": [
    "query = '''\n",
    "SELECT e.Salary, p.Score\n",
    "FROM Employee e\n",
    "JOIN PerformanceReview p ON e.EmployeeID = p.EmployeeID\n",
    "'''\n",
    "\n",
    "df = pd.read_sql_query(query, conn)\n",
    "print(df)\n"
   ]
  },
  {
   "cell_type": "code",
   "execution_count": 52,
   "id": "0c47acb2-8f37-47c2-962b-434e28827d56",
   "metadata": {},
   "outputs": [
    {
     "data": {
      "image/png": "[encoded data removed]",
      "text/plain": [
       "<Figure size 800x500 with 1 Axes>"
      ]
     },
     "metadata": {},
     "output_type": "display_data"
    }
   ],
   "source": [
    "plt.figure(figsize=(8,5))\n",
    "sns.scatterplot(data=df, x='Salary', y='Score', color='purple')\n",
    "\n",
    "plt.title('Salary vs Performance Score')\n",
    "plt.xlabel('Salary')\n",
    "plt.ylabel('Performance Score')\n",
    "plt.show()\n"
   ]
  },
  {
   "cell_type": "code",
   "execution_count": 53,
   "id": "efe5d031-46f7-4fd9-9f1b-3b227b1b99d4",
   "metadata": {},
   "outputs": [],
   "source": [
    " ###Task 9: KPI Card Values — (Text Display / Summary Metrics)"
   ]
  },
  {
   "cell_type": "code",
   "execution_count": 56,
   "id": "03b134a3-040b-4ab7-a1dd-862b34f935b3",
   "metadata": {},
   "outputs": [
    {
     "name": "stdout",
     "output_type": "stream",
     "text": [
      "   TotalEmployees     AvgSalary\n",
      "0              14  60571.428571\n",
      "   AvgPerformanceScore\n",
      "0             4.571429\n"
     ]
    }
   ],
   "source": [
    "query = '''\n",
    "SELECT \n",
    "    COUNT(EmployeeID) AS TotalEmployees,\n",
    "    AVG(Salary) AS AvgSalary\n",
    "FROM Employee\n",
    "'''\n",
    "\n",
    "df_kpi1 = pd.read_sql_query(query, conn)\n",
    "\n",
    "query = '''\n",
    "SELECT \n",
    "    AVG(Score) AS AvgPerformanceScore\n",
    "FROM PerformanceReview\n",
    "'''\n",
    "\n",
    "df_kpi2 = pd.read_sql_query(query, conn)\n",
    "\n",
    "print(df_kpi1)\n",
    "print(df_kpi2)\n"
   ]
  },
  {
   "cell_type": "code",
   "execution_count": 57,
   "id": "e10f24f5-61ae-46b0-84bc-e952306cedda",
   "metadata": {},
   "outputs": [
    {
     "name": "stdout",
     "output_type": "stream",
     "text": [
      "Total Employees: 14\n",
      "Average Salary: 60571.43\n",
      "Average Performance Score: 4.57\n"
     ]
    }
   ],
   "source": [
    "total_employees = df_kpi1.loc[0, 'TotalEmployees']\n",
    "avg_salary = df_kpi1.loc[0, 'AvgSalary']\n",
    "avg_score = df_kpi2.loc[0, 'AvgPerformanceScore']\n",
    "\n",
    "print(f\"Total Employees: {total_employees}\")\n",
    "print(f\"Average Salary: {avg_salary:.2f}\")\n",
    "print(f\"Average Performance Score: {avg_score:.2f}\")\n"
   ]
  },
  {
   "cell_type": "code",
   "execution_count": 58,
   "id": "2924e6e3-f6d0-4da8-9127-bd6ac29034bd",
   "metadata": {},
   "outputs": [],
   "source": [
    "##10.Task: Create a Heatmap to Show Correlation Between Numeric Variables in PerformanceReview Table."
   ]
  },
  {
   "cell_type": "code",
   "execution_count": 59,
   "id": "73c7f605-5f7d-42da-8e06-3ec43b6003d8",
   "metadata": {},
   "outputs": [
    {
     "name": "stdout",
     "output_type": "stream",
     "text": [
      "    ReviewID  EmployeeID  ReviewDate  Score                         Comments\n",
      "0          1           1  2023-01-15    4.5   Excellent communication skills\n",
      "1          2           2  2023-01-18    4.7                Great team player\n",
      "2          3           3  2023-01-20    4.8  Outstanding technical knowledge\n",
      "3          4           4  2023-01-25    4.3     Needs to improve punctuality\n",
      "4          5           5  2023-01-30    4.6         Strong sales performance\n",
      "5          6           6  2023-02-05    4.9             Leadership potential\n",
      "6          7           7  2023-02-10    4.4          Reliable and consistent\n",
      "7          8           8  2023-02-12    4.2          Good marketing insights\n",
      "8          9           9  2023-02-15    4.5     Excellent financial analysis\n",
      "9         10          10  2023-02-18    4.7                  Detail oriented\n",
      "10        11          11  2023-02-20    4.6          Creative problem solver\n",
      "11        12          12  2023-02-22    4.8                    Quick learner\n",
      "12        13          13  2023-02-25    4.3    Team collaboration needs work\n",
      "13        14          14  2023-02-28    4.7        Consistent high performer\n"
     ]
    }
   ],
   "source": [
    "query = \"SELECT * FROM PerformanceReview;\"\n",
    "df_review = pd.read_sql_query(query, conn)\n",
    "print(df_review)"
   ]
  },
  {
   "cell_type": "code",
   "execution_count": 63,
   "id": "5a3a6e7b-4f92-4b0b-94b5-cd1301b5368f",
   "metadata": {},
   "outputs": [
    {
     "name": "stdout",
     "output_type": "stream",
     "text": [
      "    ReviewID  EmployeeID  Score\n",
      "0          1           1    4.5\n",
      "1          2           2    4.7\n",
      "2          3           3    4.8\n",
      "3          4           4    4.3\n",
      "4          5           5    4.6\n",
      "5          6           6    4.9\n",
      "6          7           7    4.4\n",
      "7          8           8    4.2\n",
      "8          9           9    4.5\n",
      "9         10          10    4.7\n",
      "10        11          11    4.6\n",
      "11        12          12    4.8\n",
      "12        13          13    4.3\n",
      "13        14          14    4.7\n"
     ]
    }
   ],
   "source": [
    "query='''select ReviewID,EmployeeID,Score from PerformanceReview'''\n",
    "df=pd.read_sql_query(query,conn)\n",
    "print(df)"
   ]
  },
  {
   "cell_type": "code",
   "execution_count": 64,
   "id": "199ccec4-06e0-4d55-9632-5f7ae2df891a",
   "metadata": {},
   "outputs": [
    {
     "data": {
      "image/png": "[encoded data removed]",
      "text/plain": [
       "<Figure size 600x400 with 2 Axes>"
      ]
     },
     "metadata": {},
     "output_type": "display_data"
    }
   ],
   "source": [
    "corr_matrix = df.corr()\n",
    "\n",
    "# Plot heatmap\n",
    "plt.figure(figsize=(6, 4))\n",
    "sns.heatmap(corr_matrix, annot=True, cmap='coolwarm')\n",
    "plt.title('Correlation Heatmap of PerformanceReview Table')\n",
    "plt.show()"
   ]
  },
  {
   "cell_type": "code",
   "execution_count": null,
   "id": "b0b3e2b5-5bd0-4324-93b9-d5b7bacd5b44",
   "metadata": {},
   "outputs": [],
   "source": []
  }
 ],
 "metadata": {
  "kernelspec": {
   "display_name": "Python 3 (ipykernel)",
   "language": "python",
   "name": "python3"
  },
  "language_info": {
   "codemirror_mode": {
    "name": "ipython",
    "version": 3
   },
   "file_extension": ".py",
   "mimetype": "text/x-python",
   "name": "python",
   "nbconvert_exporter": "python",
   "pygments_lexer": "ipython3",
   "version": "3.13.4"
  }
 },
 "nbformat": 4,
 "nbformat_minor": 5
}
